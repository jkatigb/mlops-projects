{
 "cells": [
  {
   "cell_type": "markdown",
   "metadata": {},
   "source": [
    "# Data Exploration for {{cookiecutter.project_name}}\n",
    "\n",
    "This notebook demonstrates initial data exploration and analysis."
   ]
  },
  {
   "cell_type": "code",
   "execution_count": null,
   "metadata": {},
   "outputs": [],
   "source": [
    "# Standard imports\n",
    "import pandas as pd\n",
    "import numpy as np\n",
    "import matplotlib.pyplot as plt\n",
    "import seaborn as sns\n",
    "from pathlib import Path\n",
    "\n",
    "# Project imports\n",
    "import sys\n",
    "sys.path.append('..')\n",
    "from src.utils.config import load_config\n",
    "from src.utils.logging import setup_logging\n",
    "\n",
    "# Setup\n",
    "setup_logging()\n",
    "config = load_config()\n",
    "\n",
    "# Display settings\n",
    "pd.set_option('display.max_columns', None)\n",
    "plt.style.use('seaborn-v0_8-darkgrid')\n",
    "%matplotlib inline"
   ]
  },
  {
   "cell_type": "markdown",
   "metadata": {},
   "source": [
    "## Load Data"
   ]
  },
  {
   "cell_type": "code",
   "execution_count": null,
   "metadata": {},
   "outputs": [],
   "source": [
    "# Load raw data\n",
    "data_path = Path('../data/raw')\n",
    "# df = pd.read_csv(data_path / 'your_data.csv')\n",
    "# df.head()"
   ]
  },
  {
   "cell_type": "markdown",
   "metadata": {},
   "source": [
    "## Data Overview"
   ]
  },
  {
   "cell_type": "code",
   "execution_count": null,
   "metadata": {},
   "outputs": [],
   "source": [
    "# Basic information\n",
    "# print(f\"Dataset shape: {df.shape}\")\n",
    "# print(f\"\\nData types:\\n{df.dtypes}\")\n",
    "# print(f\"\\nMissing values:\\n{df.isnull().sum()}\")"
   ]
  },
  {
   "cell_type": "markdown",
   "metadata": {},
   "source": [
    "## Statistical Summary"
   ]
  },
  {
   "cell_type": "code",
   "execution_count": null,
   "metadata": {},
   "outputs": [],
   "source": [
    "# Numerical features summary\n",
    "# df.describe()"
   ]
  },
  {
   "cell_type": "markdown",
   "metadata": {},
   "source": [
    "## Data Visualization"
   ]
  },
  {
   "cell_type": "code",
   "execution_count": null,
   "metadata": {},
   "outputs": [],
   "source": [
    "# Distribution plots\n",
    "# fig, axes = plt.subplots(2, 2, figsize=(12, 10))\n",
    "# numeric_cols = df.select_dtypes(include=[np.number]).columns\n",
    "\n",
    "# for idx, col in enumerate(numeric_cols[:4]):\n",
    "#     ax = axes[idx // 2, idx % 2]\n",
    "#     df[col].hist(bins=30, ax=ax)\n",
    "#     ax.set_title(f'Distribution of {col}')\n",
    "#     ax.set_xlabel(col)\n",
    "#     ax.set_ylabel('Frequency')\n",
    "\n",
    "# plt.tight_layout()\n",
    "# plt.show()"
   ]
  },
  {
   "cell_type": "markdown",
   "metadata": {},
   "source": [
    "## Correlation Analysis"
   ]
  },
  {
   "cell_type": "code",
   "execution_count": null,
   "metadata": {},
   "outputs": [],
   "source": [
    "# Correlation matrix\n",
    "# plt.figure(figsize=(10, 8))\n",
    "# correlation_matrix = df.select_dtypes(include=[np.number]).corr()\n",
    "# sns.heatmap(correlation_matrix, annot=True, cmap='coolwarm', center=0)\n",
    "# plt.title('Feature Correlation Matrix')\n",
    "# plt.tight_layout()\n",
    "# plt.show()"
   ]
  },
  {
   "cell_type": "markdown",
   "metadata": {},
   "source": [
    "## Target Variable Analysis"
   ]
  },
  {
   "cell_type": "code",
   "execution_count": null,
   "metadata": {},
   "outputs": [],
   "source": [
    "# Target distribution\n",
    "# if 'target' in df.columns:\n",
    "#     plt.figure(figsize=(8, 6))\n",
    "#     df['target'].value_counts().plot(kind='bar')\n",
    "#     plt.title('Target Variable Distribution')\n",
    "#     plt.xlabel('Target')\n",
    "#     plt.ylabel('Count')\n",
    "#     plt.tight_layout()\n",
    "#     plt.show()"
   ]
  },
  {
   "cell_type": "markdown",
   "metadata": {},
   "source": [
    "## Save Preprocessed Data for Pipeline"
   ]
  },
  {
   "cell_type": "code",
   "execution_count": null,
   "metadata": {},
   "outputs": [],
   "source": [
    "# Save cleaned data\n",
    "# output_path = Path('../data/interim')\n",
    "# output_path.mkdir(exist_ok=True)\n",
    "# df.to_parquet(output_path / 'cleaned_data.parquet', index=False)\n",
    "# print(f\"Data saved to {output_path / 'cleaned_data.parquet'}\")"
   ]
  }
 ],
 "metadata": {
  "kernelspec": {
   "display_name": "Python 3",
   "language": "python",
   "name": "python3"
  },
  "language_info": {
   "codemirror_mode": {
    "name": "ipython",
    "version": 3
   },
   "file_extension": ".py",
   "mimetype": "text/x-python",
   "name": "python",
   "nbconvert_exporter": "python",
   "pygments_lexer": "ipython3",
   "version": "{{cookiecutter.python_version}}"
  }
 },
 "nbformat": 4,
 "nbformat_minor": 4
}