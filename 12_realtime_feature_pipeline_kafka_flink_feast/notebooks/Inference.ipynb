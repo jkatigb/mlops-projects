{
 "cells": [
  {
   "cell_type": "markdown",
   "metadata": {},
   "source": [
    "# Sample Inference\n",
    "Query features from Feast online store"
   ]
  },
  {
   "cell_type": "code",
   "execution_count": null,
   "metadata": {},
   "outputs": [],
   "source": [
    "from feast import FeatureStore\n",
    "store = FeatureStore(repo_path=\"../feature_repo\")\n",
    "features = store.get_online_features(\n",
    "    features=[\"sensor_features:avg_value\"],\n",
    "    entity_rows=[{\"sensor_id\": \"1\"}]\n",
    ").to_dict()\n",
    "print(features)"
   ]
  }
 ],
 "metadata": {
  "kernelspec": {
   "display_name": "python3",
   "language": "python",
   "name": "python3"
  },
  "language_info": {
   "name": "python",
   "version": "3.8"
  }
 },
 "nbformat": 4,
 "nbformat_minor": 4
}
