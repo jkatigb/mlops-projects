{
 "cells": [
  {
   "cell_type": "code",
   "execution_count": null,
   "metadata": {},
   "outputs": [],
   "source": [
    "from feast import FeatureStore\n",
    "store = FeatureStore(repo_path='../feature_repo')\n",
    "store.apply()\n",
    "store.materialize_incremental(end_date=pd.Timestamp.utcnow())"
   ]
  },
  {
   "cell_type": "code",
   "execution_count": null,
   "metadata": {},
   "outputs": [],
   "source": [
    "store.get_online_features(\n",
    "    features=['driver_stats:conv_rate'],\n",
    "    entity_rows=[{'driver_id': 1001}]\n",
    ").to_dict()"
   ]
  }
 ],
 "metadata": {
  "kernelspec": {
   "display_name": "Python 3",
   "language": "python",
   "name": "python3"
  },
  "language_info": {
   "name": "python",
   "version": "3.x"
  }
 },
 "nbformat": 4,
 "nbformat_minor": 4
}
